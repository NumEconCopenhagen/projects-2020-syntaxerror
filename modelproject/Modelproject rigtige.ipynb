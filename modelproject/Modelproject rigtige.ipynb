{
 "cells": [
  {
   "cell_type": "code",
   "execution_count": 89,
   "metadata": {},
   "outputs": [],
   "source": [
    "import matplotlib.pyplot as plt\n",
    "\n",
    "%matplotlib inline\n",
    "\n",
    "import numpy as np\n",
    "from scipy import linalg\n",
    "from scipy import optimize\n",
    "import sympy as sm\n",
    "from sympy import *"
   ]
  },
  {
   "cell_type": "markdown",
   "metadata": {},
   "source": [
    "# Model description: The Keyniesian cross\n",
    "The Keynasian cross is a part of Keynes general theory. It proposed that an economy’s total income was, in the short run, determined largely by the spending plans of households, businesses, and government. The more people want to spend, the more goods and services firms can sell. Keynes believed that the problem during recessions and depressions was inadequate spending. The Keynesian cross is an attempt to model this insight.\n",
    "\n",
    "**Structure of the model**\n",
    "\n",
    "The planned expenditure is determined as: \n",
    "\n",
    "PE = C + I + G\n",
    "\n",
    "To this equation we add the consumption function:\n",
    "\n",
    "C = C(Y-T)\n",
    "\n",
    "This equation states that concumption depends on disposable income. Further more we take planned investment as exogenously fixed: \n",
    "\n",
    "pyplot.bar(I) = I\n",
    "\n",
    "Furter more we assume that governments puchases and taxes are fixed \n",
    "\n",
    "T = \\bar{T}\n",
    "\n",
    "G = \\bar{G}\n",
    "\n",
    "Combining these eqations we get \n",
    "\n",
    "PE = C(Y-T) + I + G\n",
    "\n",
    "This equation shows that planned expenditure is a function of income Y, the \n",
    "level of planned investment I , and the fiscal policy variables G and T. \n",
    "The Keynesian cross is in equilibrium when actual expenditure equals planned expenditure\n",
    "\n",
    "Y = PE\n",
    "\n",
    "# Equilibrium analysis\n"
   ]
  },
  {
   "cell_type": "code",
   "execution_count": 140,
   "metadata": {},
   "outputs": [],
   "source": [
    "#we define the symbols \n",
    "Y = sm.symbols('Y')\n",
    "C = sm.symbols('C')\n",
    "PE = sm.symbols('PE')\n",
    "T = sm.symbols('T')\n",
    "I = sm.symbols('I')\n",
    "G = sm.symbols('G')"
   ]
  },
  {
   "cell_type": "code",
   "execution_count": 78,
   "metadata": {},
   "outputs": [
    {
     "name": "stdout",
     "output_type": "stream",
     "text": [
      "Y =\n"
     ]
    },
    {
     "data": {
      "text/latex": [
       "$\\displaystyle \\frac{C T - G - I}{C - 1}$"
      ],
      "text/plain": [
       "(C*T - G - I)/(C - 1)"
      ]
     },
     "execution_count": 78,
     "metadata": {},
     "output_type": "execute_result"
    }
   ],
   "source": [
    "#We now set Y=PE to solve for Y\n",
    "eq_PE = sm.Eq(Y, C*(Y-T) + I + G)\n",
    "eq = sm.solve(eq_PE, Y)[0]\n",
    "\n",
    "yeq = sm.factor(eq)\n",
    "print('Y =')\n",
    "yeq"
   ]
  },
  {
   "cell_type": "markdown",
   "metadata": {},
   "source": [
    "We have now found the equilibrium for Y. We now want to plot the keynesian cross"
   ]
  },
  {
   "cell_type": "code",
   "execution_count": 195,
   "metadata": {},
   "outputs": [
    {
     "data": {
      "image/png": "[encoded data removed]",
      "text/plain": [
       "<Figure size 720x360 with 1 Axes>"
      ]
     },
     "metadata": {
      "needs_background": "light"
     },
     "output_type": "display_data"
    }
   ],
   "source": [
    "Y_arrey = np.linspace(0,10)\n",
    "# Y axis \n",
    "PE_arrey = (C * (Y_arrey - T) + I + G)\n",
    "# x axis\n",
    "degree = Y_arrey\n",
    "\n",
    "# The figure\n",
    "fig = plt.figure(figsize=(10,5))\n",
    "ax = fig.add_subplot(1,1,1)\n",
    "\n",
    "ax.plot(Y_arrey, degree, label=\"45-degree line\", color='lightblue',linewidth=3)\n",
    "ax.plot(Y_arrey, PE_arrey, label=\"PE=C+I+G\", color='darkorange',linewidth=3)\n",
    "\n",
    "ax.set_xlabel(\"Y\")\n",
    "ax.set_ylabel(\"PE\")\n",
    "ax.legend(loc=\"upper left\")\n",
    "\n",
    "ax.grid()\n",
    "ax.spines['top'].set_visible(False)\n",
    "ax.spines['right'].set_visible(False)\n",
    "ax.spines['bottom'].set_visible(False)\n",
    "ax.spines['left'].set_visible(False)"
   ]
  },
  {
   "cell_type": "markdown",
   "metadata": {},
   "source": [
    "The equilibrium is where the planned expenditure (PE) is equal the actual expenditure (Y, 45-degree line). "
   ]
  },
  {
   "cell_type": "code",
   "execution_count": 237,
   "metadata": {},
   "outputs": [
    {
     "name": "stdout",
     "output_type": "stream",
     "text": [
      "The economy is in equilibrium when Y and PE are equal to\n"
     ]
    },
    {
     "data": {
      "text/plain": [
       "3.888888888888889"
      ]
     },
     "execution_count": 237,
     "metadata": {},
     "output_type": "execute_result"
    }
   ],
   "source": [
    "T = 4\n",
    "I = 3\n",
    "G = 0.9\n",
    "C = 0.1\n",
    "\n",
    "Y = (C*T-G-I)/(C-1)\n",
    "print('The economy is in equilibrium when Y and PE are equal to')\n",
    "Y"
   ]
  },
  {
   "cell_type": "markdown",
   "metadata": {},
   "source": [
    "## An Increase in Government Purchases in the Keynesian Cross ##"
   ]
  },
  {
   "cell_type": "markdown",
   "metadata": {},
   "source": [
    "We now want to examine how goverment purchase effects the  equilibrium of the economy, because higher government expenditure results in higher planned ecpenditure. We'll therefore examine hov big of a change a movement in G will make in Y. "
   ]
  },
  {
   "cell_type": "code",
   "execution_count": 239,
   "metadata": {},
   "outputs": [],
   "source": [
    "del G"
   ]
  },
  {
   "cell_type": "code",
   "execution_count": 240,
   "metadata": {},
   "outputs": [
    {
     "name": "stdout",
     "output_type": "stream",
     "text": [
      "Y will change by\n"
     ]
    },
    {
     "data": {
      "text/latex": [
       "$\\displaystyle - \\frac{1}{C - 1}$"
      ],
      "text/plain": [
       "-1/(C - 1)"
      ]
     },
     "execution_count": 240,
     "metadata": {},
     "output_type": "execute_result"
    }
   ],
   "source": [
    "G = sm.symbols('G')\n",
    "diff_Y = sm.diff(yeq, G)\n",
    "print('Y will change by')\n",
    "diff_Y"
   ]
  },
  {
   "cell_type": "code",
   "execution_count": 241,
   "metadata": {},
   "outputs": [
    {
     "name": "stdout",
     "output_type": "stream",
     "text": [
      "This means when G rises by 1 amount, Y will rise by\n"
     ]
    },
    {
     "data": {
      "text/plain": [
       "1.1111111111111112"
      ]
     },
     "execution_count": 241,
     "metadata": {},
     "output_type": "execute_result"
    }
   ],
   "source": [
    "#the increase is set:\n",
    "G_change = -(1/(C-1))\n",
    "print('This means when G rises by 1 amount, Y will rise by')\n",
    "G_change"
   ]
  },
  {
   "cell_type": "markdown",
   "metadata": {},
   "source": [
    "We now want to compare our old equilibrium, and our new (with higher public expenditure)"
   ]
  },
  {
   "cell_type": "code",
   "execution_count": 242,
   "metadata": {},
   "outputs": [],
   "source": [
    "#New G:\n",
    "G = 0.9\n",
    "delta_G = 3\n",
    "G_new = G + delta_G"
   ]
  },
  {
   "cell_type": "code",
   "execution_count": 243,
   "metadata": {},
   "outputs": [
    {
     "data": {
      "image/png": "[encoded data removed]",
      "text/plain": [
       "<Figure size 720x360 with 1 Axes>"
      ]
     },
     "metadata": {
      "needs_background": "light"
     },
     "output_type": "display_data"
    }
   ],
   "source": [
    "Y_arrey = np.linspace(0,10)\n",
    "# Y axis \n",
    "PE_arrey_new = (C * (Y_arrey - T) + I + G_new)\n",
    "# x axis\n",
    "degree = Y_arrey\n",
    "\n",
    "# The figure\n",
    "fig = plt.figure(figsize=(10,5))\n",
    "ax = fig.add_subplot(1,1,1)\n",
    "\n",
    "ax.plot(Y_arrey, degree, label=\"45-degree line\", color='lightblue',linewidth=3)\n",
    "ax.plot(Y_arrey, PE_arrey, label=\"PE=C+I+G\", color='darkorange',linewidth=3)\n",
    "ax.plot(Y_arrey, PE_arrey_new, label=\"PE_2=C+I+G'\", color='red',linewidth=3)\n",
    "\n",
    "\n",
    "ax.set_xlabel(\"Y\")\n",
    "ax.set_ylabel(\"PE\")\n",
    "ax.legend(loc=\"upper left\")\n",
    "\n",
    "ax.grid()\n",
    "ax.spines['top'].set_visible(False)\n",
    "ax.spines['right'].set_visible(False)\n",
    "ax.spines['bottom'].set_visible(False)\n",
    "ax.spines['left'].set_visible(False)"
   ]
  },
  {
   "cell_type": "code",
   "execution_count": 244,
   "metadata": {},
   "outputs": [
    {
     "name": "stdout",
     "output_type": "stream",
     "text": [
      "The equilibrium have risen to\n"
     ]
    },
    {
     "data": {
      "text/plain": [
       "7.222222222222222"
      ]
     },
     "execution_count": 244,
     "metadata": {},
     "output_type": "execute_result"
    }
   ],
   "source": [
    "Y = (C*T-G_new-I)/(C-1)\n",
    "print('The equilibrium have risen to')\n",
    "Y"
   ]
  },
  {
   "cell_type": "markdown",
   "metadata": {},
   "source": [
    "It's now clear to see that a rise in public expenditure rises planned expenditure and income. We'll now examine how changes in taxes affect equilibrium income. "
   ]
  },
  {
   "cell_type": "markdown",
   "metadata": {},
   "source": [
    "## A Decrease in Taxes in the Keynesian Cross ##"
   ]
  },
  {
   "cell_type": "markdown",
   "metadata": {},
   "source": [
    "We now want to examine how a decrease in taxes in the Keynesian cross will affect the equilibrium of the economy, because lower taxes results in higher planned ecpenditure. We'll therefore examine hov big of a change a movement in T will make in Y. "
   ]
  },
  {
   "cell_type": "code",
   "execution_count": 245,
   "metadata": {},
   "outputs": [],
   "source": [
    "del T"
   ]
  },
  {
   "cell_type": "code",
   "execution_count": 246,
   "metadata": {},
   "outputs": [
    {
     "name": "stdout",
     "output_type": "stream",
     "text": [
      "Y will change by\n"
     ]
    },
    {
     "data": {
      "text/latex": [
       "$\\displaystyle \\frac{C}{C - 1}$"
      ],
      "text/plain": [
       "C/(C - 1)"
      ]
     },
     "execution_count": 246,
     "metadata": {},
     "output_type": "execute_result"
    }
   ],
   "source": [
    "T = sm.symbols('T')\n",
    "diff_Y = sm.diff(yeq, T)\n",
    "print('Y will change by')\n",
    "diff_Y"
   ]
  },
  {
   "cell_type": "markdown",
   "metadata": {},
   "source": [
    "This means that higher taxes has a negative effect on Y, because 0 < C < 1"
   ]
  },
  {
   "cell_type": "code",
   "execution_count": 247,
   "metadata": {},
   "outputs": [
    {
     "name": "stdout",
     "output_type": "stream",
     "text": [
      "This means when T falls by 1 amount, Y will rise by\n"
     ]
    },
    {
     "data": {
      "text/plain": [
       "0.11111111111111112"
      ]
     },
     "execution_count": 247,
     "metadata": {},
     "output_type": "execute_result"
    }
   ],
   "source": [
    "#the increase is set:\n",
    "T_change = -(C/(C-1))\n",
    "print('This means when T falls by 1 amount, Y will rise by')\n",
    "T_change"
   ]
  },
  {
   "cell_type": "code",
   "execution_count": 254,
   "metadata": {},
   "outputs": [],
   "source": [
    "#New T:\n",
    "T = 4\n",
    "delta_T = -3\n",
    "T_new = T + delta_T"
   ]
  },
  {
   "cell_type": "code",
   "execution_count": 257,
   "metadata": {},
   "outputs": [
    {
     "data": {
      "image/png": "[encoded data removed]",
      "text/plain": [
       "<Figure size 720x360 with 1 Axes>"
      ]
     },
     "metadata": {
      "needs_background": "light"
     },
     "output_type": "display_data"
    }
   ],
   "source": [
    "Y_arrey = np.linspace(0,10)\n",
    "# Y axis \n",
    "PE_arrey_new = (C * (Y_arrey - T_new) + I + G)\n",
    "# x axis\n",
    "degree = Y_arrey\n",
    "\n",
    "# The figure\n",
    "fig = plt.figure(figsize=(10,5))\n",
    "ax = fig.add_subplot(1,1,1)\n",
    "\n",
    "ax.plot(Y_arrey, degree, label=\"45-degree line\", color='lightblue',linewidth=3)\n",
    "ax.plot(Y_arrey, PE_arrey, label=\"PE=C*(Y-T)+I+G\", color='darkorange',linewidth=3)\n",
    "ax.plot(Y_arrey, PE_arrey_new, label=\"PE_2=C*(Y-T')+I+G\", color='red',linewidth=3)\n",
    "\n",
    "\n",
    "ax.set_xlabel(\"Y\")\n",
    "ax.set_ylabel(\"PE\")\n",
    "ax.legend(loc=\"upper left\")\n",
    "\n",
    "ax.grid()\n",
    "ax.spines['top'].set_visible(False)\n",
    "ax.spines['right'].set_visible(False)\n",
    "ax.spines['bottom'].set_visible(False)\n",
    "ax.spines['left'].set_visible(False)"
   ]
  },
  {
   "cell_type": "code",
   "execution_count": 256,
   "metadata": {},
   "outputs": [
    {
     "name": "stdout",
     "output_type": "stream",
     "text": [
      "The equilibrium have risen to\n"
     ]
    },
    {
     "data": {
      "text/plain": [
       "4.222222222222222"
      ]
     },
     "execution_count": 256,
     "metadata": {},
     "output_type": "execute_result"
    }
   ],
   "source": [
    "Y_t = ((C*T_new)-G-I)/(C-1)\n",
    "print('The equilibrium have risen to')\n",
    "Y_t"
   ]
  },
  {
   "cell_type": "markdown",
   "metadata": {},
   "source": [
    "It's clear to see that a rise in public expenditure has a bigger effect on equilibrium, since 4,2 < 7,2 "
   ]
  },
  {
   "cell_type": "code",
   "execution_count": null,
   "metadata": {},
   "outputs": [],
   "source": []
  }
 ],
 "metadata": {
  "kernelspec": {
   "display_name": "Python 3",
   "language": "python",
   "name": "python3"
  },
  "language_info": {
   "codemirror_mode": {
    "name": "ipython",
    "version": 3
   },
   "file_extension": ".py",
   "mimetype": "text/x-python",
   "name": "python",
   "nbconvert_exporter": "python",
   "pygments_lexer": "ipython3",
   "version": "3.7.4"
  }
 },
 "nbformat": 4,
 "nbformat_minor": 2
}
