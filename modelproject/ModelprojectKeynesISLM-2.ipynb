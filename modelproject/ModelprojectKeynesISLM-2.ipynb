{
 "cells": [
  {
   "cell_type": "code",
   "execution_count": 70,
   "metadata": {},
   "outputs": [],
   "source": [
    "import matplotlib.pyplot as plt\n",
    "\n",
    "%matplotlib inline\n",
    "\n",
    "import numpy as np\n",
    "from scipy import linalg\n",
    "from scipy import optimize\n",
    "import sympy as sm\n",
    "from sympy import *"
   ]
  },
  {
   "cell_type": "markdown",
   "metadata": {},
   "source": [
    "# Model description: The Keyniesian cross and the IS-LM model\n",
    "\n",
    "## Keyniesian cross\n",
    "The Keynasian cross is a part of Keynes general theory. It proposed that an economy’s total income was, in the short run, determined largely by the spending plans of households, businesses, and government. The more people want to spend, the more goods and services firms can sell. Keynes believed that the problem during recessions and depressions was inadequate spending. The Keynesian cross is an attempt to model this insight.\n",
    "\n",
    "**Structure of the model**\n",
    "\n",
    "The planned expenditure is determined as: \n",
    "\n",
    "$$ AD = C + I + G + NX $$\n",
    "\n",
    "To this equation we add the consumption function:\n",
    "\n",
    "$$ C = a + b(Y-T),    a>0,    0<b<1 $$\n",
    "\n",
    "This equation states that concumption depends on disposable income, and is a linear function. b is the marginal consumption rate. Further more we take planned investment as exogenously fixed, and negatively related to the rate of interest: \n",
    "\n",
    "$$ I = \\bar{I} - di $$\n",
    "Because of the free capital movement, the real domestic interest rate equals the real foreign interest rate, $r^*$\n",
    "\n",
    "$$ r = \\bar{r^*} $$\n",
    "\n",
    "Furter more we assume that governments puchases and taxes are fixed \n",
    "\n",
    "$$ T = \\bar{T} $$\n",
    "\n",
    "$$ G = \\bar{G} $$\n",
    "\n",
    "Combining these eqations we get \n",
    "\n",
    "$$ AD = a + b(Y- \\bar{T}) + \\bar{I} - di + \\bar{G} + NX $$\n",
    "\n",
    "This equation shows that planned expenditure is a function of income Y, the \n",
    "level of planned investment I , the fiscal policy variables G and T and the net export NX. \n",
    "The Keynesian cross is in equilibrium when actual expenditure equals planned expenditure\n",
    "\n",
    "$$ Y = AD $$ \n",
    "\n",
    "### Keynesian cross equilibrium analysis"
   ]
  },
  {
   "cell_type": "code",
   "execution_count": 71,
   "metadata": {},
   "outputs": [],
   "source": [
    "# we define the symbols \n",
    "Y = sm.symbols('Y')\n",
    "C = sm.symbols('C')\n",
    "PE = sm.symbols('PE')\n",
    "T = sm.symbols('T')\n",
    "I = sm.symbols('I')\n",
    "G = sm.symbols('G')\n",
    "NX = sm.symbols('NX')\n",
    "d = sm.symbols('d')\n",
    "i = sm.symbols('i')\n",
    "a = sm.symbols('a')\n",
    "b = sm.symbols('b')"
   ]
  },
  {
   "cell_type": "code",
   "execution_count": 72,
   "metadata": {},
   "outputs": [
    {
     "name": "stdout",
     "output_type": "stream",
     "text": [
      "Y =\n"
     ]
    },
    {
     "data": {
      "text/latex": [
       "$\\displaystyle - \\frac{G + I + NX - T b + a - d i}{b - 1}$"
      ],
      "text/plain": [
       "-(G + I + NX - T*b + a - d*i)/(b - 1)"
      ]
     },
     "execution_count": 72,
     "metadata": {},
     "output_type": "execute_result"
    }
   ],
   "source": [
    "# We now set Y=AD to solve for Y\n",
    "eq_AD = sm.Eq(Y, a + b*(Y-T) + I-(d*i) + G + NX)\n",
    "eq = sm.solve(eq_AD, Y)[0]\n",
    "\n",
    "yeq = sm.factor(eq)\n",
    "print('Y =')\n",
    "yeq"
   ]
  },
  {
   "cell_type": "markdown",
   "metadata": {},
   "source": [
    "We have now found the equilibrium for Y. We now want to plot the keynesian cross"
   ]
  },
  {
   "cell_type": "code",
   "execution_count": 75,
   "metadata": {},
   "outputs": [
    {
     "data": {
      "image/png": "[encoded data removed]",
      "text/plain": [
       "<Figure size 720x360 with 1 Axes>"
      ]
     },
     "metadata": {
      "needs_background": "light"
     },
     "output_type": "display_data"
    }
   ],
   "source": [
    "# Define the values for our parameters\n",
    "T = 30\n",
    "I = 40\n",
    "G = 30\n",
    "NX = 10\n",
    "a = 30\n",
    "b = 0.3\n",
    "d = 5\n",
    "i = 5\n",
    "\n",
    "# The data for production and AD is plotted\n",
    "Y_arrey = np.linspace(0,300)\n",
    "AD_arrey = (a + b * (Y_arrey - T) + I - d*i + G + NX)\n",
    "degree = Y_arrey\n",
    "\n",
    "# The figure\n",
    "fig = plt.figure(figsize=(10,5))\n",
    "ax = fig.add_subplot(1,1,1)\n",
    "\n",
    "ax.plot(Y_arrey, degree, label=\"45-degree line\", color='lightblue',linewidth=3)\n",
    "ax.plot(Y_arrey, AD_arrey, label=\"AD=C+I+G+NX\", color='darkorange',linewidth=3)\n",
    "\n",
    "ax.set_xlabel(\"Y\")\n",
    "ax.set_ylabel(\"AD\")\n",
    "ax.legend(loc=\"upper left\")\n",
    "\n",
    "ax.grid()\n",
    "ax.spines['top'].set_visible(False)\n",
    "ax.spines['right'].set_visible(False)\n",
    "ax.spines['bottom'].set_visible(False)\n",
    "ax.spines['left'].set_visible(False)"
   ]
  },
  {
   "cell_type": "code",
   "execution_count": 76,
   "metadata": {},
   "outputs": [
    {
     "name": "stdout",
     "output_type": "stream",
     "text": [
      "The equilibrium for the Keynesian cross is\n"
     ]
    },
    {
     "data": {
      "text/plain": [
       "108.57142857142858"
      ]
     },
     "execution_count": 76,
     "metadata": {},
     "output_type": "execute_result"
    }
   ],
   "source": [
    "Y = -(G + I + NX - T*b + a - d*i)/(b-1)\n",
    "print ('The equilibrium for the Keynesian cross is')\n",
    "Y"
   ]
  },
  {
   "cell_type": "markdown",
   "metadata": {},
   "source": [
    "### An Increase in Government Purchases in the Keynesian Cross \n",
    "We now want to examine how goverment purchase effects the  equilibrium of the economy, because higher government expenditure results in higher planned ecpenditure. We'll therefore examine hov big of a change a movement in G will make in Y. "
   ]
  },
  {
   "cell_type": "code",
   "execution_count": 77,
   "metadata": {},
   "outputs": [
    {
     "name": "stdout",
     "output_type": "stream",
     "text": [
      "Y will change by\n"
     ]
    },
    {
     "data": {
      "text/latex": [
       "$\\displaystyle - \\frac{1}{b - 1}$"
      ],
      "text/plain": [
       "-1/(b - 1)"
      ]
     },
     "execution_count": 77,
     "metadata": {},
     "output_type": "execute_result"
    }
   ],
   "source": [
    "del G\n",
    "G = sm.symbols('G')\n",
    "diff_Y = sm.diff(yeq, G)\n",
    "print('Y will change by')\n",
    "diff_Y"
   ]
  },
  {
   "cell_type": "markdown",
   "metadata": {},
   "source": [
    "Where b is the marginal propensity to consume. "
   ]
  },
  {
   "cell_type": "code",
   "execution_count": 78,
   "metadata": {},
   "outputs": [
    {
     "name": "stdout",
     "output_type": "stream",
     "text": [
      "This means when G rises by 1 amount, Y will rise by\n"
     ]
    },
    {
     "data": {
      "text/plain": [
       "1.4285714285714286"
      ]
     },
     "execution_count": 78,
     "metadata": {},
     "output_type": "execute_result"
    }
   ],
   "source": [
    "#the increase is set:\n",
    "G_change = -(1/(b-1))\n",
    "print('This means when G rises by 1 amount, Y will rise by')\n",
    "G_change "
   ]
  },
  {
   "cell_type": "markdown",
   "metadata": {},
   "source": [
    "We now want to compare our old equilibrium with our new equilibrium  (higher public expenditure)"
   ]
  },
  {
   "cell_type": "code",
   "execution_count": 79,
   "metadata": {},
   "outputs": [
    {
     "data": {
      "image/png": "[encoded data removed]",
      "text/plain": [
       "<Figure size 720x360 with 1 Axes>"
      ]
     },
     "metadata": {
      "needs_background": "light"
     },
     "output_type": "display_data"
    }
   ],
   "source": [
    "# New G:\n",
    "G = 30\n",
    "#Public expenditure rises by amount 20\n",
    "delta_G = 20\n",
    "G_new = G + delta_G\n",
    "\n",
    "# The data for production and AD is plotted\n",
    "Y_arrey = np.linspace(0,300)\n",
    "AD_arrey_new = (a + b * (Y_arrey - T) + (I - d*i) + G_new + NX)\n",
    "degree = Y_arrey\n",
    "\n",
    "# The figure\n",
    "fig = plt.figure(figsize=(10,5))\n",
    "ax = fig.add_subplot(1,1,1)\n",
    "\n",
    "ax.plot(Y_arrey, degree, label=\"45-degree line\", color='lightblue',linewidth=3)\n",
    "ax.plot(Y_arrey, AD_arrey, label=\"AD=C+I+G+NX\", color='darkorange',linewidth=3)\n",
    "ax.plot(Y_arrey, AD_arrey_new, label=\"AD_2=C+I+G'+NX\", color='red',linewidth=3)\n",
    "\n",
    "ax.set_xlabel(\"Y\")\n",
    "ax.set_ylabel(\"AD\")\n",
    "ax.legend(loc=\"upper left\")\n",
    "\n",
    "ax.grid()\n",
    "ax.spines['top'].set_visible(False)\n",
    "ax.spines['right'].set_visible(False)\n",
    "ax.spines['bottom'].set_visible(False)\n",
    "ax.spines['left'].set_visible(False)"
   ]
  },
  {
   "cell_type": "code",
   "execution_count": 80,
   "metadata": {},
   "outputs": [
    {
     "name": "stdout",
     "output_type": "stream",
     "text": [
      "The equilibrium have risen to\n"
     ]
    },
    {
     "data": {
      "text/plain": [
       "137.14285714285714"
      ]
     },
     "execution_count": 80,
     "metadata": {},
     "output_type": "execute_result"
    }
   ],
   "source": [
    "Y_G = -(G_new + I + NX - T*b + a - d*i)/(b-1)\n",
    "print('The equilibrium have risen to')\n",
    "Y_G"
   ]
  },
  {
   "cell_type": "code",
   "execution_count": 81,
   "metadata": {},
   "outputs": [
    {
     "name": "stdout",
     "output_type": "stream",
     "text": [
      "The equlibrium have changed by\n"
     ]
    },
    {
     "data": {
      "text/plain": [
       "28.571428571428555"
      ]
     },
     "execution_count": 81,
     "metadata": {},
     "output_type": "execute_result"
    }
   ],
   "source": [
    "change_G = Y_G - Y\n",
    "print('The equlibrium have changed by')\n",
    "change_G"
   ]
  },
  {
   "cell_type": "markdown",
   "metadata": {},
   "source": [
    "### A Decrease in Taxes in the Keynesian Cross \n",
    "We now want to examine how a decrease in taxes in the Keynesian cross will affect the equilibrium of the economy, because lower taxes results in higher planned ecpenditure. We'll therefore examine hov big of a change a movement in T will make in Y. "
   ]
  },
  {
   "cell_type": "code",
   "execution_count": 82,
   "metadata": {},
   "outputs": [
    {
     "name": "stdout",
     "output_type": "stream",
     "text": [
      "Y will change by\n"
     ]
    },
    {
     "data": {
      "text/latex": [
       "$\\displaystyle \\frac{b}{b - 1}$"
      ],
      "text/plain": [
       "b/(b - 1)"
      ]
     },
     "execution_count": 82,
     "metadata": {},
     "output_type": "execute_result"
    }
   ],
   "source": [
    "del T\n",
    "T = sm.symbols('T')\n",
    "diff_Y = sm.diff(yeq, T)\n",
    "print('Y will change by')\n",
    "diff_Y"
   ]
  },
  {
   "cell_type": "markdown",
   "metadata": {},
   "source": [
    "Higher taxes has a negative effect on Y, because 0<b<1"
   ]
  },
  {
   "cell_type": "code",
   "execution_count": 84,
   "metadata": {},
   "outputs": [
    {
     "name": "stdout",
     "output_type": "stream",
     "text": [
      "This means when T falls by 1 amount, Y will rise by\n"
     ]
    },
    {
     "data": {
      "text/plain": [
       "0.4285714285714286"
      ]
     },
     "execution_count": 84,
     "metadata": {},
     "output_type": "execute_result"
    }
   ],
   "source": [
    "#the increase is set:\n",
    "T_change = -(b/(b-1))\n",
    "print('This means when T falls by 1 amount, Y will rise by')\n",
    "T_change"
   ]
  },
  {
   "cell_type": "code",
   "execution_count": 85,
   "metadata": {},
   "outputs": [
    {
     "data": {
      "image/png": "[encoded data removed]",
      "text/plain": [
       "<Figure size 720x360 with 1 Axes>"
      ]
     },
     "metadata": {
      "needs_background": "light"
     },
     "output_type": "display_data"
    }
   ],
   "source": [
    "# New T:\n",
    "T = 30\n",
    "#Taxs falls by amount 20\n",
    "delta_T = -20\n",
    "T_new = T + delta_T\n",
    "\n",
    "# The data for production and AD is plotted\n",
    "Y_arrey = np.linspace(0,300)\n",
    "AD_arrey_new_2 = (a + b*(Y_arrey - T_new) + (I - d*i) + G + NX)\n",
    "degree = Y_arrey\n",
    "\n",
    "# The figure\n",
    "fig = plt.figure(figsize=(10,5))\n",
    "ax = fig.add_subplot(1,1,1)\n",
    "\n",
    "ax.plot(Y_arrey, degree, label=\"45-degree line\", color='lightblue',linewidth=3)\n",
    "ax.plot(Y_arrey, AD_arrey, label=\"AD=C(Y-T)+I+G+NX\", color='darkorange',linewidth=3)\n",
    "ax.plot(Y_arrey, AD_arrey_new_2, label=\"AD_2=C*(Y-T')+I+G + NX\", color='red',linewidth=3)\n",
    "\n",
    "\n",
    "ax.set_xlabel(\"Y\")\n",
    "ax.set_ylabel(\"PE\")\n",
    "ax.legend(loc=\"upper left\")\n",
    "\n",
    "ax.grid()\n",
    "ax.spines['top'].set_visible(False)\n",
    "ax.spines['right'].set_visible(False)\n",
    "ax.spines['bottom'].set_visible(False)\n",
    "ax.spines['left'].set_visible(False)"
   ]
  },
  {
   "cell_type": "code",
   "execution_count": 86,
   "metadata": {},
   "outputs": [
    {
     "name": "stdout",
     "output_type": "stream",
     "text": [
      "The equilibrium have risen to\n"
     ]
    },
    {
     "data": {
      "text/plain": [
       "117.14285714285715"
      ]
     },
     "execution_count": 86,
     "metadata": {},
     "output_type": "execute_result"
    }
   ],
   "source": [
    "Y = -(G + I + NX - T_new*b + a - d*i)/(b-1)\n",
    "print('The equilibrium have risen to')\n",
    "Y"
   ]
  },
  {
   "cell_type": "markdown",
   "metadata": {},
   "source": [
    "It's clear to see that a rise in public expenditure has a bigger effect on equilibrium, since 117.1 < 137.1"
   ]
  },
  {
   "cell_type": "markdown",
   "metadata": {},
   "source": [
    "## The IS-curve\n",
    "The Keynesian cross is only a stepping-stone on our path to the IS–curve, which explains the economy’s aggregate demand curve. The Keynesian cross is useful because it shows how the spending plans of households, firms, and the government determine the economy’s income. We'll now derive the IS-curve from the AD-curve\n",
    "\n",
    "$$Y-bY=a+b\\bar{T}+\\bar{I}-di+\\bar{G}+NX$$\n",
    "\n",
    "$$Y(1-b)=a+b\\bar{T}+\\bar{I}-di+\\bar{G}+NX$$\n",
    "\n",
    "$$Y=\\frac{1}{1-b}(a+\\bar{I}+\\bar{G}+NX)-\\frac{1}{1-b}(b\\bar{T}+di)$$\n",
    "\n",
    "Our function for IS depends on the variables from the Keynesian cross. We can therefore define our function."
   ]
  },
  {
   "cell_type": "code",
   "execution_count": 54,
   "metadata": {},
   "outputs": [
    {
     "name": "stdout",
     "output_type": "stream",
     "text": [
      "The function for the IS-curve =\n"
     ]
    },
    {
     "data": {
      "text/latex": [
       "$\\displaystyle 144.285714285714 - 7.14285714285714 i$"
      ],
      "text/plain": [
       "144.285714285714 - 7.14285714285714*i"
      ]
     },
     "execution_count": 54,
     "metadata": {},
     "output_type": "execute_result"
    }
   ],
   "source": [
    "# We'll now define our function for the IS-curve\n",
    "del i\n",
    "i = sm.symbols('i')\n",
    "Y_IS = (1/(1-b))*(a+I+G+NX)-(1/(1-b))*(b*T+d*i)\n",
    "print('The function for the IS-curve =')\n",
    "Y_IS"
   ]
  },
  {
   "cell_type": "markdown",
   "metadata": {},
   "source": [
    "## The LM-curve\n",
    "Having derived algebraically equation for IS curve we now turn to the derivation of equation for LM curve. It will be recalled that LM curve is a curve that shows combinations of interest rates and levels of income at which money market is in equilibrium, that is, at which demand for money equals supply of money. Let us assume that money demand function is linear. Then:\n",
    "\n",
    "$$ L(Y,i)=kY-hik, h > 0 $$\n",
    "\n",
    "Parameter k represents how much demand for real money balances increases when level of income rises. Parameter h represents how much demand for real money balances decreases when rate of interest rises.\n",
    "The equilibrium in the money market is established where demand for real money balances equals supply of real money balances and is given by\n",
    "\n",
    "$$ M/P = kY – hi $$\n",
    "\n",
    "Solving equation above for interest rate, we'll get \n",
    "\n",
    "$$i = 1/h (kY – M/P) $$\n",
    "\n",
    "The above equation describes the equation for the LM-curve. To be precise it gives us the equilibrium interest rate for any given value of level of income (Y) and real money balances. For the money market to be in equilibrium we have that:\n",
    "\n",
    "$$M_d=M_s$$\n",
    "\n",
    "Where $M_d$ is the demand for money, and $M_s$ is the rate of interest. We have that:\n",
    "\n",
    "$$M_d=Y–2i$$\n",
    "\n",
    "$$M_s=20$$\n",
    "\n",
    "The solution is:\n",
    "\n",
    "$$Y=20+2i$$"
   ]
  },
  {
   "cell_type": "code",
   "execution_count": 55,
   "metadata": {},
   "outputs": [
    {
     "name": "stdout",
     "output_type": "stream",
     "text": [
      "The function for the LM-curve =\n"
     ]
    },
    {
     "data": {
      "text/latex": [
       "$\\displaystyle 2 i + 20$"
      ],
      "text/plain": [
       "2*i + 20"
      ]
     },
     "execution_count": 55,
     "metadata": {},
     "output_type": "execute_result"
    }
   ],
   "source": [
    "# We'll now define our function for the LM-curve\n",
    "Y_LM = 20 + 2*i\n",
    "print('The function for the LM-curve =')\n",
    "Y_LM"
   ]
  },
  {
   "cell_type": "markdown",
   "metadata": {},
   "source": [
    "## The IS-LM model\n",
    "We'll now put the IS- and LM curve together. The IS-LM model shows the relationship between interest rates and output. "
   ]
  },
  {
   "cell_type": "code",
   "execution_count": 87,
   "metadata": {},
   "outputs": [
    {
     "data": {
      "image/png": "[encoded data removed]",
      "text/plain": [
       "<Figure size 720x360 with 1 Axes>"
      ]
     },
     "metadata": {
      "needs_background": "light"
     },
     "output_type": "display_data"
    }
   ],
   "source": [
    "# The functions\n",
    "I_arrey = np.linspace(0,25)\n",
    "IS_arrey = 144-7*I_arrey\n",
    "LM_arrey = 20+2*I_arrey\n",
    "\n",
    "# The figure\n",
    "fig = plt.figure(figsize=(10,5))\n",
    "ax = fig.add_subplot(1,1,1)\n",
    "\n",
    "ax.plot(I_arrey, IS_arrey, label=\"IS-curve\", color='darkorange',linewidth=3)\n",
    "ax.plot(I_arrey, LM_arrey, label=\"LM-curve\", color='blue',linewidth=3)\n",
    "\n",
    "ax.set_xlabel(\"Y\")\n",
    "ax.set_ylabel(\"I\")\n",
    "ax.legend(loc=\"upper left\")\n",
    "\n",
    "ax.grid()\n",
    "ax.spines['top'].set_visible(False)\n",
    "ax.spines['right'].set_visible(False)\n",
    "ax.spines['bottom'].set_visible(False)\n",
    "ax.spines['left'].set_visible(False)"
   ]
  },
  {
   "cell_type": "markdown",
   "metadata": {},
   "source": [
    "The equilibrium is 13.7. This means that the economy are in equiibrium when output is equal to 13.7.\n",
    "\n",
    "## An Increase in Government Purchases in the IS-LM model\n",
    "We'll now examine how a change in public expenditure will effect the IS-LM curve. We'll change it with the amount 20 - the same for the keynisian cross"
   ]
  },
  {
   "cell_type": "code",
   "execution_count": 88,
   "metadata": {},
   "outputs": [
    {
     "name": "stdout",
     "output_type": "stream",
     "text": [
      "The function for the new IS-curve =\n"
     ]
    },
    {
     "data": {
      "text/latex": [
       "$\\displaystyle 172.857142857143 - 7.14285714285714 i$"
      ],
      "text/plain": [
       "172.857142857143 - 7.14285714285714*i"
      ]
     },
     "execution_count": 88,
     "metadata": {},
     "output_type": "execute_result"
    }
   ],
   "source": [
    "# We'll now define our new function for the IS-curve when we change the public expenditure\n",
    "del i\n",
    "i = sm.symbols('i')\n",
    "Y_IS_G = (1/(1-b))*(a+I+G_new+NX)-(1/(1-b))*(b*T+d*i)\n",
    "print('The function for the new IS-curve =')\n",
    "Y_IS_G"
   ]
  },
  {
   "cell_type": "code",
   "execution_count": 89,
   "metadata": {},
   "outputs": [
    {
     "data": {
      "image/png": "[encoded data removed]",
      "text/plain": [
       "<Figure size 720x360 with 1 Axes>"
      ]
     },
     "metadata": {
      "needs_background": "light"
     },
     "output_type": "display_data"
    }
   ],
   "source": [
    "# The functions\n",
    "I_arrey = np.linspace(0,25)\n",
    "IS_arrey_G = 172-7*I_arrey\n",
    "LM_arrey_G = 20+2*I_arrey\n",
    "\n",
    "# The figure\n",
    "fig = plt.figure(figsize=(10,5))\n",
    "ax = fig.add_subplot(1,1,1)\n",
    "\n",
    "ax.plot(I_arrey, IS_arrey_G, label=\"IS_2-curve\", color='darkorange',linewidth=3)\n",
    "ax.plot(I_arrey, LM_arrey_G, label=\"LM-curve\", color='blue',linewidth=3)\n",
    "ax.plot(I_arrey, IS_arrey, label=\"IS-curve\", color='red',linewidth=3)\n",
    "\n",
    "ax.set_xlabel(\"Y\")\n",
    "ax.set_ylabel(\"I\")\n",
    "ax.legend(loc=\"upper left\")\n",
    "\n",
    "ax.grid()\n",
    "ax.spines['top'].set_visible(False)\n",
    "ax.spines['right'].set_visible(False)\n",
    "ax.spines['bottom'].set_visible(False)\n",
    "ax.spines['left'].set_visible(False)"
   ]
  },
  {
   "cell_type": "markdown",
   "metadata": {},
   "source": [
    "The new equilibrium is 16.8. We can therefore conclude that a rise in public expenditure rises output and the interest rate. "
   ]
  },
  {
   "cell_type": "markdown",
   "metadata": {},
   "source": [
    "# Extension\n",
    "We will now analyze how much a change in public expenditure makes on output in Keynes cross, and the IS-LM model, when we have respectively a lump sum tax, and taxes levied as proportion of income. \n",
    "For lump sum taxes we assume that the consumption function is defined as:\n",
    "\n",
    "$$C=a+b(Y-T+R)$$\n",
    "\n",
    "Where R is the lump sum. If we assume proportionate income tax, then consumption is defined as:\n",
    "\n",
    "$$C=a+b(Y-tY)$$\n",
    "\n",
    "## Lump sum\n",
    "\n",
    "### Lump Sum equilibrium analysis"
   ]
  },
  {
   "cell_type": "code",
   "execution_count": 90,
   "metadata": {},
   "outputs": [
    {
     "name": "stdout",
     "output_type": "stream",
     "text": [
      "Y =\n"
     ]
    },
    {
     "data": {
      "text/latex": [
       "$\\displaystyle - \\frac{G + I + NX + R b - T b + a - d i}{b - 1}$"
      ],
      "text/plain": [
       "-(G + I + NX + R*b - T*b + a - d*i)/(b - 1)"
      ]
     },
     "execution_count": 90,
     "metadata": {},
     "output_type": "execute_result"
    }
   ],
   "source": [
    "del a\n",
    "del b\n",
    "del Y\n",
    "del T\n",
    "del I\n",
    "del d\n",
    "del G\n",
    "del NX\n",
    "a = sm.symbols('a')\n",
    "b = sm.symbols('b')\n",
    "Y = sm.symbols('Y')\n",
    "T = sm.symbols('T')\n",
    "I = sm.symbols('I')\n",
    "d = sm.symbols('d')\n",
    "G = sm.symbols('G')\n",
    "NX = sm.symbols('NX')\n",
    "R = sm.symbols('R')\n",
    "\n",
    "#We now set Y=AD to solve for Y\n",
    "eq_AD_Lump = sm.Eq(Y, a + b*(Y-T+R) + I-(d*i) + G + NX)\n",
    "eq_Lump = sm.solve(eq_AD_Lump, Y)[0]\n",
    "\n",
    "yeq_Lump = sm.factor(eq_Lump)\n",
    "print('Y =')\n",
    "yeq_Lump"
   ]
  },
  {
   "cell_type": "markdown",
   "metadata": {},
   "source": [
    "We have now found the equilibrium for Y when implementing a lump sum tax. We want solve for how much a public expentuture makes in Y"
   ]
  },
  {
   "cell_type": "code",
   "execution_count": 60,
   "metadata": {},
   "outputs": [
    {
     "name": "stdout",
     "output_type": "stream",
     "text": [
      "Y will change by\n"
     ]
    },
    {
     "data": {
      "text/latex": [
       "$\\displaystyle - \\frac{1}{b - 1}$"
      ],
      "text/plain": [
       "-1/(b - 1)"
      ]
     },
     "execution_count": 60,
     "metadata": {},
     "output_type": "execute_result"
    }
   ],
   "source": [
    "diff_Y_Lump = sm.diff(yeq_Lump, G)\n",
    "print('Y will change by')\n",
    "diff_Y_Lump"
   ]
  },
  {
   "cell_type": "markdown",
   "metadata": {},
   "source": [
    "This is exactly the same the change as with no lump sum tax. We'll therefore look at the change in Y for a proportionel income tax."
   ]
  },
  {
   "cell_type": "markdown",
   "metadata": {},
   "source": [
    "## Proportionate income tax\n",
    "\n",
    "### Proportionate income tax equilirium analysis "
   ]
  },
  {
   "cell_type": "code",
   "execution_count": 91,
   "metadata": {},
   "outputs": [
    {
     "name": "stdout",
     "output_type": "stream",
     "text": [
      "Y =\n"
     ]
    },
    {
     "data": {
      "text/latex": [
       "$\\displaystyle \\frac{G + I + NX + a - d i}{b t - b + 1}$"
      ],
      "text/plain": [
       "(G + I + NX + a - d*i)/(b*t - b + 1)"
      ]
     },
     "execution_count": 91,
     "metadata": {},
     "output_type": "execute_result"
    }
   ],
   "source": [
    "del a\n",
    "del b\n",
    "del Y\n",
    "del T\n",
    "del I\n",
    "del d\n",
    "del G\n",
    "del NX\n",
    "a = sm.symbols('a')\n",
    "b = sm.symbols('b')\n",
    "Y = sm.symbols('Y')\n",
    "T = sm.symbols('T')\n",
    "I = sm.symbols('I')\n",
    "d = sm.symbols('d')\n",
    "G = sm.symbols('G')\n",
    "NX = sm.symbols('NX')\n",
    "R = sm.symbols('R')\n",
    "\n",
    "#We now set Y=PE to solve for Y\n",
    "t = sm.symbols('t')\n",
    "eq_AD_Prop = sm.Eq(Y, a + b*(Y-t*Y) + I-(d*i) + G + NX)\n",
    "eq_Prop = sm.solve(eq_AD_Prop, Y)[0]\n",
    "\n",
    "yeq_Prop = sm.factor(eq_Prop)\n",
    "print('Y =')\n",
    "yeq_Prop"
   ]
  },
  {
   "cell_type": "markdown",
   "metadata": {},
   "source": [
    "We have now found the equilibrium for Y when implementing a proportionate income tax. We now want solve for how big a change public expentuture makes in Y."
   ]
  },
  {
   "cell_type": "code",
   "execution_count": 92,
   "metadata": {},
   "outputs": [
    {
     "name": "stdout",
     "output_type": "stream",
     "text": [
      "Y will change by\n"
     ]
    },
    {
     "data": {
      "text/latex": [
       "$\\displaystyle \\frac{1}{b t - b + 1}$"
      ],
      "text/plain": [
       "1/(b*t - b + 1)"
      ]
     },
     "execution_count": 92,
     "metadata": {},
     "output_type": "execute_result"
    }
   ],
   "source": [
    "diff_Y_Prop = sm.diff(yeq_Prop, G)\n",
    "print('Y will change by')\n",
    "diff_Y_Prop"
   ]
  },
  {
   "cell_type": "markdown",
   "metadata": {},
   "source": [
    "We can see that the new slope is less steep. This means that the multiplicator effect is smaller.\n",
    "\n",
    "### An Increase in Government Purchases in the Keynesian Cross with proportionate income tax"
   ]
  },
  {
   "cell_type": "code",
   "execution_count": 94,
   "metadata": {},
   "outputs": [
    {
     "data": {
      "image/png": "[encoded data removed]",
      "text/plain": [
       "<Figure size 720x360 with 1 Axes>"
      ]
     },
     "metadata": {
      "needs_background": "light"
     },
     "output_type": "display_data"
    }
   ],
   "source": [
    "# Define the values for our parameters\n",
    "T = 30\n",
    "I = 40\n",
    "G = 30\n",
    "NX = 10\n",
    "a = 30\n",
    "b = 0.3\n",
    "d = 5\n",
    "i = 5\n",
    "t = 0.3\n",
    "\n",
    "Y_arrey = np.linspace(0,300)\n",
    "AD_arrey_Prop = (a + b*(Y_arrey - t*Y_arrey) + I - d*i + G + NX)\n",
    "AD_arrey_Prop_new = (a + b*(Y_arrey - t*Y_arrey) + I - d*i + G_new + NX)\n",
    "degree = Y_arrey\n",
    "\n",
    "# The figure\n",
    "fig = plt.figure(figsize=(10,5))\n",
    "ax = fig.add_subplot(1,1,1)\n",
    "\n",
    "ax.plot(Y_arrey, degree, label=\"45-degree line\", color='lightblue',linewidth=3)\n",
    "ax.plot(Y_arrey, AD_arrey_Prop, label=\"AD=C(Y-tY)+I+G+NX\", color='darkorange',linewidth=3)\n",
    "ax.plot(Y_arrey, AD_arrey_Prop_new, label=\"AD_2=C*(Y-tY)+I+G' + NX\", color='red',linewidth=3)\n",
    "\n",
    "\n",
    "ax.set_xlabel(\"Y\")\n",
    "ax.set_ylabel(\"PE\")\n",
    "ax.legend(loc=\"upper left\")\n",
    "\n",
    "ax.grid()\n",
    "ax.spines['top'].set_visible(False)\n",
    "ax.spines['right'].set_visible(False)\n",
    "ax.spines['bottom'].set_visible(False)\n",
    "ax.spines['left'].set_visible(False)"
   ]
  },
  {
   "cell_type": "code",
   "execution_count": 95,
   "metadata": {},
   "outputs": [
    {
     "name": "stdout",
     "output_type": "stream",
     "text": [
      "The old equilibrium for the economy with proportionate income tax, but without public expenditure was\n"
     ]
    },
    {
     "data": {
      "text/plain": [
       "107.59493670886076"
      ]
     },
     "execution_count": 95,
     "metadata": {},
     "output_type": "execute_result"
    }
   ],
   "source": [
    "Y_Prop = (G + I + NX + a - d*i)/(b*t-b+1)\n",
    "Y_Prop_new = (G_new + I + NX + a - d*i)/(b*t-b+1)\n",
    "print('The old equilibrium for the economy with proportionate income tax, but without public expenditure was')\n",
    "Y_Prop"
   ]
  },
  {
   "cell_type": "code",
   "execution_count": 96,
   "metadata": {},
   "outputs": [
    {
     "name": "stdout",
     "output_type": "stream",
     "text": [
      "The new equilibrium for the economy with proportionate income tax, and with public expenditure is\n"
     ]
    },
    {
     "data": {
      "text/plain": [
       "132.91139240506328"
      ]
     },
     "execution_count": 96,
     "metadata": {},
     "output_type": "execute_result"
    }
   ],
   "source": [
    "print('The new equilibrium for the economy with proportionate income tax, and with public expenditure is')\n",
    "Y_Prop_new"
   ]
  },
  {
   "cell_type": "code",
   "execution_count": 97,
   "metadata": {},
   "outputs": [
    {
     "name": "stdout",
     "output_type": "stream",
     "text": [
      "The change is\n"
     ]
    },
    {
     "data": {
      "text/plain": [
       "25.316455696202524"
      ]
     },
     "execution_count": 97,
     "metadata": {},
     "output_type": "execute_result"
    }
   ],
   "source": [
    "change_prop = Y_Prop_new - Y_Prop\n",
    "print('The change is')\n",
    "change_prop"
   ]
  },
  {
   "cell_type": "markdown",
   "metadata": {},
   "source": [
    "Because of the dependent tax, the shift in the total production is smaller 25.3 < 28.57. \n",
    "\n",
    "### An Increase in Government Purchases in the IS-LM model with proportionate income tax\n",
    "We'll now find our new function for the IS-curve."
   ]
  },
  {
   "cell_type": "code",
   "execution_count": 98,
   "metadata": {},
   "outputs": [
    {
     "name": "stdout",
     "output_type": "stream",
     "text": [
      "The function for the IS-curve =\n"
     ]
    },
    {
     "data": {
      "text/latex": [
       "$\\displaystyle 139.240506329114 - 6.32911392405063 i$"
      ],
      "text/plain": [
       "139.240506329114 - 6.32911392405063*i"
      ]
     },
     "execution_count": 98,
     "metadata": {},
     "output_type": "execute_result"
    }
   ],
   "source": [
    "# We'll now define our function for the IS-curve\n",
    "del i\n",
    "i = sm.symbols('i')\n",
    "Y_IS = (1/(b*t-b+1))*(a+I+G+NX-d*i)\n",
    "print('The function for the IS-curve =')\n",
    "Y_IS"
   ]
  },
  {
   "cell_type": "code",
   "execution_count": 100,
   "metadata": {},
   "outputs": [
    {
     "data": {
      "image/png": "[encoded data removed]",
      "text/plain": [
       "<Figure size 720x360 with 1 Axes>"
      ]
     },
     "metadata": {
      "needs_background": "light"
     },
     "output_type": "display_data"
    }
   ],
   "source": [
    "# The functions\n",
    "I_arrey = np.linspace(0,25)\n",
    "IS_arrey_prop = 139-6*I_arrey\n",
    "LM_arrey_prop = 20+2*I_arrey\n",
    "\n",
    "# The figure\n",
    "fig = plt.figure(figsize=(10,5))\n",
    "ax = fig.add_subplot(1,1,1)\n",
    "\n",
    "ax.plot(I_arrey, IS_arrey_prop, label=\"IS_prop-curve\", color='darkorange',linewidth=3)\n",
    "ax.plot(I_arrey, LM_arrey_prop, label=\"LM_prop-curve\", color='blue',linewidth=3)\n",
    "\n",
    "ax.set_xlabel(\"Y\")\n",
    "ax.set_ylabel(\"I\")\n",
    "ax.legend(loc=\"upper left\")\n",
    "\n",
    "ax.grid()\n",
    "ax.spines['top'].set_visible(False)\n",
    "ax.spines['right'].set_visible(False)\n",
    "ax.spines['bottom'].set_visible(False)\n",
    "ax.spines['left'].set_visible(False)"
   ]
  },
  {
   "cell_type": "markdown",
   "metadata": {},
   "source": [
    "The equlibrium is equal to 14.8. It's clear to see that a proportionate income tax have a smaller effect on the economy when changing the public expenditure, because 14.8 < 16.8"
   ]
  },
  {
   "cell_type": "markdown",
   "metadata": {},
   "source": [
    "# Conclusion \n",
    "We can therefore conclude that a rise in government purchase have a bigger effect on production than a fall in taxes. Furthermore we can conclude that implementation of a lump sum tax will not have any effect, when changing the public expenditure. However a proportionate income tax have an effect. By including a proportionate income tax, the economy gets more stable and shifts in exogenous variables have a smaller effect on the economy.\n",
    "\n"
   ]
  }
 ],
 "metadata": {
  "kernelspec": {
   "display_name": "Python 3",
   "language": "python",
   "name": "python3"
  },
  "language_info": {
   "codemirror_mode": {
    "name": "ipython",
    "version": 3
   },
   "file_extension": ".py",
   "mimetype": "text/x-python",
   "name": "python",
   "nbconvert_exporter": "python",
   "pygments_lexer": "ipython3",
   "version": "3.7.7"
  }
 },
 "nbformat": 4,
 "nbformat_minor": 4
}
